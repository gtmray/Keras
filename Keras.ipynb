{
  "nbformat": 4,
  "nbformat_minor": 0,
  "metadata": {
    "colab": {
      "name": "Keras.ipynb",
      "provenance": [],
      "authorship_tag": "ABX9TyOQg4oXqLXWsu+p6zgiIPBX",
      "include_colab_link": true
    },
    "kernelspec": {
      "name": "python3",
      "display_name": "Python 3"
    },
    "accelerator": "GPU"
  },
  "cells": [
    {
      "cell_type": "markdown",
      "metadata": {
        "id": "view-in-github",
        "colab_type": "text"
      },
      "source": [
        "<a href=\"https://colab.research.google.com/github/gtmray/Keras/blob/master/Keras.ipynb\" target=\"_parent\"><img src=\"https://colab.research.google.com/assets/colab-badge.svg\" alt=\"Open In Colab\"/></a>"
      ]
    },
    {
      "cell_type": "code",
      "metadata": {
        "id": "mrX8hniI0mxV",
        "colab_type": "code",
        "colab": {}
      },
      "source": [
        "import numpy as np\n",
        "import pandas as pd\n",
        "import matplotlib.pyplot as plt\n",
        "import seaborn as sns\n",
        "from sklearn.model_selection import train_test_split\n",
        "from sklearn.metrics import confusion_matrix\n",
        "from sklearn.preprocessing import StandardScaler\n",
        "\n",
        "import tensorflow as tf\n",
        "from tensorflow import keras\n",
        "from tensorflow.keras.models import Sequential\n",
        "from tensorflow.keras.layers import Activation, Dense\n",
        "from tensorflow.keras.optimizers import Adam, SGD\n",
        "from tensorflow.keras.metrics import categorical_crossentropy"
      ],
      "execution_count": 33,
      "outputs": []
    },
    {
      "cell_type": "code",
      "metadata": {
        "id": "JtFeGXIw1wNe",
        "colab_type": "code",
        "colab": {
          "base_uri": "https://localhost:8080/",
          "height": 36
        },
        "outputId": "e69d762a-c903-41cd-ccc1-9b9b646d692e"
      },
      "source": [
        "physical_devices = tf.config.experimental.list_physical_devices('GPU')\n",
        "print(\"Num of GPUs: \", len(physical_devices))\n",
        "tf.config.experimental.set_memory_growth(physical_devices[0], True)"
      ],
      "execution_count": 34,
      "outputs": [
        {
          "output_type": "stream",
          "text": [
            "Num of GPUs:  1\n"
          ],
          "name": "stdout"
        }
      ]
    },
    {
      "cell_type": "code",
      "metadata": {
        "id": "DV7B67YM1QQF",
        "colab_type": "code",
        "colab": {}
      },
      "source": [
        "pd.set_option('display.max_columns', 10)\n",
        "sns.set()\n",
        "plt.style.use('ggplot')\n",
        "\n",
        "cols = [\"Pregnancies\" ,\"Glucose\" ,\"BloodPressure\" ,\"SkinThickness\" ,\"Insulin\" ,\"BMI\" ,\"DiabetesPedigreeFunction\" ,\"Age\" ,\"Outcome\"]\n",
        "url = \"https://gist.githubusercontent.com/ktisha/c21e73a1bd1700294ef790c56c8aec1f/raw/819b69b5736821ccee93d05b51de0510bea00294/pima-indians-diabetes.csv\"\n",
        "df = pd.read_csv(url, skiprows=9, names=cols)\n",
        "\n",
        "target_col = 'Outcome'\n",
        "X = df.drop(target_col, axis=1)\n",
        "scaler = StandardScaler()\n",
        "X = scaler.fit_transform(X)\n",
        "y = df[target_col]\n",
        "X_train, X_test, y_train, y_test = train_test_split(X, y, test_size=0.2, random_state=42)"
      ],
      "execution_count": 35,
      "outputs": []
    },
    {
      "cell_type": "code",
      "metadata": {
        "id": "k01mKcmo3DuO",
        "colab_type": "code",
        "colab": {}
      },
      "source": [
        "model = Sequential([\n",
        "                    Dense(units=12, input_dim = 8, activation = 'relu'),\n",
        "                    Dense(units=16, input_shape=(1, ), activation='relu'),\n",
        "                    Dense(units=32, activation='relu'),\n",
        "                    Dense(units=2, activation='softmax')\n",
        "])\n",
        "model.summary()\n",
        "model.compile(optimizer=SGD(learning_rate=0.001), loss='sparse_categorical_crossentropy', metrics=['accuracy'])\n",
        "model.fit(x=X_train, y=y_train, validation_split=0.1, batch_size=5, epochs=100, shuffle=True, verbose=2)\n",
        "prediction_proba = model.predict(x=X_test, batch_size=5, verbose=0)\n",
        "prediction = np.argmax(prediction_proba, axis=-1)\n",
        "print((y_test==prediction).mean())"
      ],
      "execution_count": null,
      "outputs": []
    },
    {
      "cell_type": "markdown",
      "metadata": {
        "id": "ERw6QV2TH_sg",
        "colab_type": "text"
      },
      "source": [
        "SAVING AND LOADING\n",
        " THE MODEL"
      ]
    },
    {
      "cell_type": "code",
      "metadata": {
        "id": "zWxEqwjq4Z5J",
        "colab_type": "code",
        "colab": {}
      },
      "source": [
        "####USING .SAVE NORMAL\n",
        "\n",
        "import os.path\n",
        "if os.path.isfile('/diabetes_model.h5') is False:\n",
        "  model.save('/diabetes_model.h5') #Saving here saves architecture, weights, loss, optimizer, state of optimizer\n",
        "\n",
        "from tensorflow.keras.models import load_model\n",
        "new_model1 = load_model('/diabetes_model.h5')\n",
        "\n",
        "new_model1.summary()\n",
        "new_model1.get_weights()\n",
        "new_model1.optimizer"
      ],
      "execution_count": 41,
      "outputs": []
    },
    {
      "cell_type": "code",
      "metadata": {
        "id": "uRLkfkdqHnkd",
        "colab_type": "code",
        "colab": {}
      },
      "source": [
        "#SAVING IN JSON and yaml\n",
        "\n",
        "json_string = model.to_json() #Only saves model architecture\n",
        "yaml_string = model.to_yaml()\n",
        "\n",
        "from tensorflow.keras.models import model_from_json, model_from_yaml\n",
        "new_model2 = model_from_json(json_string)\n",
        "#new_model2.summary()\n",
        "\n",
        "new_model3 = model_from_yaml(yaml_string)\n",
        "#new_model3.summary()"
      ],
      "execution_count": null,
      "outputs": []
    },
    {
      "cell_type": "code",
      "metadata": {
        "id": "2w7ToqM-H1cw",
        "colab_type": "code",
        "colab": {}
      },
      "source": [
        "#SAVING ONLY WEIGHTS\n",
        "\n",
        "import os.path\n",
        "if os.path.isfile('/diabetes_model_weights.h5') is False:\n",
        "  model.save_weights('/diabetes_model_weights.h5') #Saving here saves architecture, weights, loss, optimizer, state of optimizer\n",
        "\n",
        "model2 = Sequential([\n",
        "                    Dense(units=12, input_dim = 8, activation = 'relu'),\n",
        "                    Dense(units=16, input_shape=(1, ), activation='relu'),\n",
        "                    Dense(units=32, activation='relu'),\n",
        "                    Dense(units=2, activation='softmax')\n",
        "])\n",
        "\n",
        "model2.load_weights('/diabetes_model_weights.h5') #Shape must match"
      ],
      "execution_count": 46,
      "outputs": []
    },
    {
      "cell_type": "code",
      "metadata": {
        "id": "QhbwN5D9LQIM",
        "colab_type": "code",
        "colab": {}
      },
      "source": [
        ""
      ],
      "execution_count": null,
      "outputs": []
    }
  ]
}